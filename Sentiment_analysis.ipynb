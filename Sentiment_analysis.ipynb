{
  "nbformat": 4,
  "nbformat_minor": 0,
  "metadata": {
    "colab": {
      "name": "Sentiment_analysis",
      "provenance": [],
      "collapsed_sections": [],
      "authorship_tag": "ABX9TyPuc+M0xqvvcb2VMLQWF/Xo",
      "include_colab_link": true
    },
    "kernelspec": {
      "name": "python3",
      "display_name": "Python 3"
    }
  },
  "cells": [
    {
      "cell_type": "markdown",
      "metadata": {
        "id": "view-in-github",
        "colab_type": "text"
      },
      "source": [
        "<a href=\"https://colab.research.google.com/github/AnaghaBaby123/Sentiment-Analysis-with-Tensorflow/blob/main/Sentiment_analysis.ipynb\" target=\"_parent\"><img src=\"https://colab.research.google.com/assets/colab-badge.svg\" alt=\"Open In Colab\"/></a>"
      ]
    },
    {
      "cell_type": "markdown",
      "metadata": {
        "id": "jyWy9VzDrfcW"
      },
      "source": [
        "# **The IMDB review dataset**\n"
      ]
    },
    {
      "cell_type": "code",
      "metadata": {
        "id": "4th2yI_avRRN"
      },
      "source": [
        "from tensorflow.python.keras.datasets import imdb\n",
        "(x_train,y_train),(x_test,y_test) = imdb.load_data(num_words=10000)\n"
      ],
      "execution_count": null,
      "outputs": []
    },
    {
      "cell_type": "code",
      "metadata": {
        "id": "RftJgmlCvYpV",
        "outputId": "8d0d5745-e1a2-423e-cb60-6aa6daf348d2",
        "colab": {
          "base_uri": "https://localhost:8080/",
          "height": 54
        }
      },
      "source": [
        "print(x_train[0])  #Review is taken as a list of words and thus it is converted to list of tokens\n",
        "                   #Each Token correspond to each word."
      ],
      "execution_count": null,
      "outputs": [
        {
          "output_type": "stream",
          "text": [
            "[1, 14, 22, 16, 43, 530, 973, 1622, 1385, 65, 458, 4468, 66, 3941, 4, 173, 36, 256, 5, 25, 100, 43, 838, 112, 50, 670, 2, 9, 35, 480, 284, 5, 150, 4, 172, 112, 167, 2, 336, 385, 39, 4, 172, 4536, 1111, 17, 546, 38, 13, 447, 4, 192, 50, 16, 6, 147, 2025, 19, 14, 22, 4, 1920, 4613, 469, 4, 22, 71, 87, 12, 16, 43, 530, 38, 76, 15, 13, 1247, 4, 22, 17, 515, 17, 12, 16, 626, 18, 2, 5, 62, 386, 12, 8, 316, 8, 106, 5, 4, 2223, 5244, 16, 480, 66, 3785, 33, 4, 130, 12, 16, 38, 619, 5, 25, 124, 51, 36, 135, 48, 25, 1415, 33, 6, 22, 12, 215, 28, 77, 52, 5, 14, 407, 16, 82, 2, 8, 4, 107, 117, 5952, 15, 256, 4, 2, 7, 3766, 5, 723, 36, 71, 43, 530, 476, 26, 400, 317, 46, 7, 4, 2, 1029, 13, 104, 88, 4, 381, 15, 297, 98, 32, 2071, 56, 26, 141, 6, 194, 7486, 18, 4, 226, 22, 21, 134, 476, 26, 480, 5, 144, 30, 5535, 18, 51, 36, 28, 224, 92, 25, 104, 4, 226, 65, 16, 38, 1334, 88, 12, 16, 283, 5, 16, 4472, 113, 103, 32, 15, 16, 5345, 19, 178, 32]\n"
          ],
          "name": "stdout"
        }
      ]
    },
    {
      "cell_type": "code",
      "metadata": {
        "id": "0nLcERupxKKY",
        "outputId": "afeeb2db-8f18-4d67-85e9-492d45b28ed4",
        "colab": {
          "base_uri": "https://localhost:8080/",
          "height": 34
        }
      },
      "source": [
        "print(y_train[0])    # 1 represents positive review and 0 represents negative review."
      ],
      "execution_count": null,
      "outputs": [
        {
          "output_type": "stream",
          "text": [
            "1\n"
          ],
          "name": "stdout"
        }
      ]
    },
    {
      "cell_type": "markdown",
      "metadata": {
        "id": "KIZpwunJ3ctw"
      },
      "source": [
        "# **Decoding the Review**:"
      ]
    },
    {
      "cell_type": "code",
      "metadata": {
        "id": "iAFio1QlynZg",
        "outputId": "dba98886-c4a9-449e-8db2-1d41e9f812d3",
        "colab": {
          "base_uri": "https://localhost:8080/",
          "height": 54
        }
      },
      "source": [
        "word_index = imdb.get_word_index()     # get_word_index() function returns dictionary of words and their index values.\n",
        "text =' '\n",
        "def decode(review):\n",
        "  for vals in review:\n",
        "    for key,value in word_index.items():\n",
        "      if(vals == value):\n",
        "        print(key,end=\" \")\n",
        "        break\n",
        "      else:\n",
        "        pass\n",
        "\n",
        "decode(x_train[0])"
      ],
      "execution_count": null,
      "outputs": [
        {
          "output_type": "stream",
          "text": [
            "the as you with out themselves powerful lets loves their becomes reaching had journalist of lot from anyone to have after out atmosphere never more room and it so heart shows to years of every never going and help moments or of every chest visual movie except her was several of enough more with is now current film as you of mine potentially unfortunately of you than him that with out themselves her get for was camp of you movie sometimes movie that with scary but and to story wonderful that in seeing in character to of 70s musicians with heart had shadows they of here that with her serious to have does when from why what have critics they is you that isn't one will very to as itself with other and in of seen over landed for anyone of and br show's to whether from than out themselves history he name half some br of and odd was two most of mean for 1 any an boat she he should is thought frog but of script you not while history he heart to real at barrel but when from one bit then have two of script their with her nobody most that with wasn't to with armed acting watch an for with heartfelt film want an "
          ],
          "name": "stdout"
        }
      ]
    },
    {
      "cell_type": "markdown",
      "metadata": {
        "id": "rwIt69OQ5ZzQ"
      },
      "source": [
        "# **Padding the Data:** \n",
        "(To make every data instances of same length)"
      ]
    },
    {
      "cell_type": "code",
      "metadata": {
        "id": "6356DFWw5nuU"
      },
      "source": [
        "from tensorflow.python.keras.preprocessing.sequence import pad_sequences\n",
        "x_train = pad_sequences(x_train,value=word_index[\"the\"],maxlen=256,padding='post')  # The word 'the' is added as it is\n",
        "x_test = pad_sequences(x_test,value=word_index[\"the\"],maxlen=256,padding='post')    # meaningless word"
      ],
      "execution_count": null,
      "outputs": []
    },
    {
      "cell_type": "code",
      "metadata": {
        "id": "Wq4PUiJh7gRi",
        "outputId": "8c27b040-312d-4cdd-c34e-5706fcb9624b",
        "colab": {
          "base_uri": "https://localhost:8080/",
          "height": 34
        }
      },
      "source": [
        "print(len(x_train[0]))"
      ],
      "execution_count": null,
      "outputs": [
        {
          "output_type": "stream",
          "text": [
            "256\n"
          ],
          "name": "stdout"
        }
      ]
    },
    {
      "cell_type": "code",
      "metadata": {
        "id": "8kQeOlPO9ES5",
        "outputId": "cc04edcc-72d9-41bb-e62c-3f08431d799d",
        "colab": {
          "base_uri": "https://localhost:8080/",
          "height": 54
        }
      },
      "source": [
        "decode(x_train[0])"
      ],
      "execution_count": null,
      "outputs": [
        {
          "output_type": "stream",
          "text": [
            "the as you with out themselves powerful lets loves their becomes reaching had journalist of lot from anyone to have after out atmosphere never more room and it so heart shows to years of every never going and help moments or of every chest visual movie except her was several of enough more with is now current film as you of mine potentially unfortunately of you than him that with out themselves her get for was camp of you movie sometimes movie that with scary but and to story wonderful that in seeing in character to of 70s musicians with heart had shadows they of here that with her serious to have does when from why what have critics they is you that isn't one will very to as itself with other and in of seen over landed for anyone of and br show's to whether from than out themselves history he name half some br of and odd was two most of mean for 1 any an boat she he should is thought frog but of script you not while history he heart to real at barrel but when from one bit then have two of script their with her nobody most that with wasn't to with armed acting watch an for with heartfelt film want an the the the the the the the the the the the the the the the the the the the the the the the the the the the the the the the the the the the the the the "
          ],
          "name": "stdout"
        }
      ]
    },
    {
      "cell_type": "markdown",
      "metadata": {
        "id": "okS3EcliAsep"
      },
      "source": [
        "**One hot Encoding:**\n",
        "In this method,each word is represented as an entire entitiy and feature.No relationship between words can be obtained.\n",
        "\n",
        "**Word Embedding:**\n",
        "In this method,we can find the relationships between the words.The words are mapped with feature set and given with a value (how much they are related to corresponding feature).\n",
        "\n",
        "***So word embeddings are preferred over one hot encoding in text analysis***"
      ]
    },
    {
      "cell_type": "markdown",
      "metadata": {
        "id": "LOLsZANICbYz"
      },
      "source": [
        "# **Creating and training model**"
      ]
    },
    {
      "cell_type": "markdown",
      "metadata": {
        "id": "L_Atfp9cIZXv"
      },
      "source": [
        "**GlobalAveragePooling1D layer:** It uses a parser window which moves across the object and pools the data by averaging it (GlobalAveragePooling) or picking max value (GlobalMaxPooling). Padding is essentially required to take the corner cases into the account.\n",
        "\n",
        "**Embedding layer :**\n",
        "The Embedding layer is initialized with random weights and will learn an embedding for all of the words in the training dataset.The output of the Embedding layer is a 2D vector with one embedding for each word in the input sequence of words"
      ]
    },
    {
      "cell_type": "code",
      "metadata": {
        "id": "MrRC5_DDCg3e",
        "outputId": "69805ee7-b19c-4cc5-d4c1-df88bf87ec06",
        "colab": {
          "base_uri": "https://localhost:8080/",
          "height": 289
        }
      },
      "source": [
        "from tensorflow.python.keras.models import Sequential\n",
        "from tensorflow.python.keras.layers import Dense,Embedding,GlobalAveragePooling1D\n",
        "\n",
        "model = Sequential([\n",
        "                    Embedding(10000,16),\n",
        "                    GlobalAveragePooling1D(),\n",
        "                    Dense(16,activation='relu'),\n",
        "                    Dense(1,activation='sigmoid')\n",
        "])\n",
        "\n",
        "model.compile(\n",
        "    loss= \"binary_crossentropy\",\n",
        "    optimizer = 'adam',\n",
        "    metrics = ['accuracy']\n",
        ")\n",
        "\n",
        "model.summary()"
      ],
      "execution_count": null,
      "outputs": [
        {
          "output_type": "stream",
          "text": [
            "Model: \"sequential\"\n",
            "_________________________________________________________________\n",
            "Layer (type)                 Output Shape              Param #   \n",
            "=================================================================\n",
            "embedding (Embedding)        (None, None, 16)          160000    \n",
            "_________________________________________________________________\n",
            "global_average_pooling1d (Gl (None, 16)                0         \n",
            "_________________________________________________________________\n",
            "dense (Dense)                (None, 16)                272       \n",
            "_________________________________________________________________\n",
            "dense_1 (Dense)              (None, 1)                 17        \n",
            "=================================================================\n",
            "Total params: 160,289\n",
            "Trainable params: 160,289\n",
            "Non-trainable params: 0\n",
            "_________________________________________________________________\n"
          ],
          "name": "stdout"
        }
      ]
    },
    {
      "cell_type": "code",
      "metadata": {
        "id": "-0OCP5JuOTKW",
        "outputId": "e50de4ab-aded-418c-ae3a-dd26f5473da2",
        "colab": {
          "base_uri": "https://localhost:8080/",
          "height": 697
        }
      },
      "source": [
        "h = model.fit(\n",
        "    x_train,y_train,\n",
        "    epochs = 20,\n",
        "    validation_split = 0.2\n",
        "\n",
        "  \n",
        ")"
      ],
      "execution_count": 47,
      "outputs": [
        {
          "output_type": "stream",
          "text": [
            "Epoch 1/20\n",
            "625/625 [==============================] - 3s 5ms/step - loss: 0.0194 - accuracy: 0.9959 - val_loss: 0.0226 - val_accuracy: 0.9962\n",
            "Epoch 2/20\n",
            "625/625 [==============================] - 3s 5ms/step - loss: 0.0146 - accuracy: 0.9975 - val_loss: 0.0297 - val_accuracy: 0.9922\n",
            "Epoch 3/20\n",
            "625/625 [==============================] - 3s 5ms/step - loss: 0.0118 - accuracy: 0.9979 - val_loss: 0.0365 - val_accuracy: 0.9894\n",
            "Epoch 4/20\n",
            "625/625 [==============================] - 3s 5ms/step - loss: 0.0100 - accuracy: 0.9987 - val_loss: 0.0532 - val_accuracy: 0.9824\n",
            "Epoch 5/20\n",
            "625/625 [==============================] - 3s 5ms/step - loss: 0.0079 - accuracy: 0.9989 - val_loss: 0.0571 - val_accuracy: 0.9804\n",
            "Epoch 6/20\n",
            "625/625 [==============================] - 3s 5ms/step - loss: 0.0068 - accuracy: 0.9990 - val_loss: 0.0738 - val_accuracy: 0.9740\n",
            "Epoch 7/20\n",
            "625/625 [==============================] - 3s 5ms/step - loss: 0.0057 - accuracy: 0.9992 - val_loss: 0.0886 - val_accuracy: 0.9714\n",
            "Epoch 8/20\n",
            "625/625 [==============================] - 3s 5ms/step - loss: 0.0053 - accuracy: 0.9991 - val_loss: 0.1316 - val_accuracy: 0.9592\n",
            "Epoch 9/20\n",
            "625/625 [==============================] - 3s 5ms/step - loss: 0.0045 - accuracy: 0.9993 - val_loss: 0.1238 - val_accuracy: 0.9624\n",
            "Epoch 10/20\n",
            "625/625 [==============================] - 3s 5ms/step - loss: 0.0038 - accuracy: 0.9995 - val_loss: 0.1441 - val_accuracy: 0.9596\n",
            "Epoch 11/20\n",
            "625/625 [==============================] - 3s 5ms/step - loss: 0.0039 - accuracy: 0.9995 - val_loss: 0.1750 - val_accuracy: 0.9540\n",
            "Epoch 12/20\n",
            "625/625 [==============================] - 3s 5ms/step - loss: 0.0065 - accuracy: 0.9984 - val_loss: 0.2173 - val_accuracy: 0.9450\n",
            "Epoch 13/20\n",
            "625/625 [==============================] - 3s 5ms/step - loss: 0.0045 - accuracy: 0.9989 - val_loss: 0.2337 - val_accuracy: 0.9446\n",
            "Epoch 14/20\n",
            "625/625 [==============================] - 3s 5ms/step - loss: 0.0028 - accuracy: 0.9995 - val_loss: 0.2496 - val_accuracy: 0.9420\n",
            "Epoch 15/20\n",
            "625/625 [==============================] - 3s 5ms/step - loss: 0.0013 - accuracy: 0.9998 - val_loss: 0.2566 - val_accuracy: 0.9448\n",
            "Epoch 16/20\n",
            "625/625 [==============================] - 3s 5ms/step - loss: 7.0303e-04 - accuracy: 0.9998 - val_loss: 0.2635 - val_accuracy: 0.9422\n",
            "Epoch 17/20\n",
            "625/625 [==============================] - 3s 5ms/step - loss: 0.0014 - accuracy: 0.9998 - val_loss: 0.2848 - val_accuracy: 0.9398\n",
            "Epoch 18/20\n",
            "625/625 [==============================] - 3s 5ms/step - loss: 5.6758e-04 - accuracy: 1.0000 - val_loss: 0.2927 - val_accuracy: 0.9398\n",
            "Epoch 19/20\n",
            "625/625 [==============================] - 3s 5ms/step - loss: 2.5654e-04 - accuracy: 1.0000 - val_loss: 0.3032 - val_accuracy: 0.9394\n",
            "Epoch 20/20\n",
            "625/625 [==============================] - 3s 5ms/step - loss: 3.2072e-04 - accuracy: 0.9999 - val_loss: 0.3195 - val_accuracy: 0.9384\n"
          ],
          "name": "stdout"
        }
      ]
    },
    {
      "cell_type": "markdown",
      "metadata": {
        "id": "-_sPKL14O8H6"
      },
      "source": [
        "# **Prediction and evaluation**"
      ]
    },
    {
      "cell_type": "code",
      "metadata": {
        "id": "fE50bdXqO_m-",
        "outputId": "253c620f-9c21-4417-fa20-f85b0152b150",
        "colab": {
          "base_uri": "https://localhost:8080/",
          "height": 265
        }
      },
      "source": [
        "import matplotlib.pyplot as plt\n",
        "%matplotlib inline\n",
        "\n",
        "plt.plot(range(20), h.history['accuracy'],label = 'Training')\n",
        "plt.plot(range(20), h.history['val_accuracy'],label = 'Validation')\n",
        "\n",
        "plt.legend()\n",
        "plt.show()"
      ],
      "execution_count": 51,
      "outputs": [
        {
          "output_type": "display_data",
          "data": {
            "image/png": "[encoded data removed]",
            "text/plain": [
              "<Figure size 432x288 with 1 Axes>"
            ]
          },
          "metadata": {
            "tags": [],
            "needs_background": "light"
          }
        }
      ]
    },
    {
      "cell_type": "code",
      "metadata": {
        "id": "RMyDK2fOTmSC",
        "outputId": "9319e05e-8115-4afc-fcb7-ddcd75e3cbbe",
        "colab": {
          "base_uri": "https://localhost:8080/",
          "height": 34
        }
      },
      "source": [
        "loss,acc = model.evaluate(x_test,y_test,verbose=False)\n",
        "print(\"accuracy of model on test data is\",acc*100)"
      ],
      "execution_count": 53,
      "outputs": [
        {
          "output_type": "stream",
          "text": [
            "accuracy of model on test data is 83.07999968528748\n"
          ],
          "name": "stdout"
        }
      ]
    },
    {
      "cell_type": "code",
      "metadata": {
        "id": "TXVa7FzCYYsE",
        "outputId": "90bac2d7-8c0b-4cca-c5f5-7172d021e728",
        "colab": {
          "base_uri": "https://localhost:8080/",
          "height": 88
        }
      },
      "source": [
        "import numpy as np\n",
        "i=1\n",
        "p = model.predict(np.expand_dims(x_test[i],axis=0))\n",
        "\n",
        "\n",
        "print(\"label:\",y_test[i])\n",
        "\n",
        "if(p[0]>=0.5):\n",
        "  print(\"Positive review\")\n",
        "else:\n",
        "  print(\"Negative review\")\n",
        "\n",
        "decode(x_test[i])"
      ],
      "execution_count": 110,
      "outputs": [
        {
          "output_type": "stream",
          "text": [
            "label: 1\n",
            "Positive review\n",
            "is quite br mankind most that quest are chase to being quickly of little it time hell to plot br of something long put are of every place this consequence and of interplay storytelling being nasty not of you warren in is failed club i i of films pay so sequences and film okay uses to received and if time done for room sugar viewer as cartoon of gives to forgettable br be because many these of reflection sugar contained gives it wreck scene to more was two when had find as you another it of themselves probably who interplay storytelling if itself by br about 1950's films not would effects that her box to miike for if hero close seek end is very together movie of wheel got say kong sugar fred close bore there is playing lot of and pan place trilogy of lacks br of their time much this men as on it is telling program br silliness okay and to frustration at corner and she of sequences to political clearly in of drugs keep guy i i was throwing room sugar as it by br be plot many for occasionally film verge boyfriend difficult kid as you it failed not if gerard to if woman in and is police fi spooky or of self what have pretty in can so suit you good 2 which why super as it main of my i i  if time screenplay in same this remember assured have action one in realistic that better of lessons "
          ],
          "name": "stdout"
        }
      ]
    }
  ]
}